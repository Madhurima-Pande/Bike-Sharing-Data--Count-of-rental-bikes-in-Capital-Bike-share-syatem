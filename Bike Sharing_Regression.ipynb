{
 "cells": [
  {
   "cell_type": "code",
   "execution_count": 76,
   "id": "f89c18eb",
   "metadata": {},
   "outputs": [],
   "source": [
    "import pandas as pd\n",
    "import numpy as np\n",
    "import matplotlib.pyplot as plt\n",
    "import seaborn as sns"
   ]
  },
  {
   "cell_type": "markdown",
   "id": "87cfa8a5",
   "metadata": {},
   "source": [
    "## Data extraction"
   ]
  },
  {
   "cell_type": "code",
   "execution_count": 148,
   "id": "13fdfefa",
   "metadata": {},
   "outputs": [],
   "source": [
    "data=pd.read_csv(\"hour.csv\")"
   ]
  },
  {
   "cell_type": "code",
   "execution_count": 149,
   "id": "eeaf643b",
   "metadata": {},
   "outputs": [
    {
     "data": {
      "text/html": [
       "<div>\n",
       "<style scoped>\n",
       "    .dataframe tbody tr th:only-of-type {\n",
       "        vertical-align: middle;\n",
       "    }\n",
       "\n",
       "    .dataframe tbody tr th {\n",
       "        vertical-align: top;\n",
       "    }\n",
       "\n",
       "    .dataframe thead th {\n",
       "        text-align: right;\n",
       "    }\n",
       "</style>\n",
       "<table border=\"1\" class=\"dataframe\">\n",
       "  <thead>\n",
       "    <tr style=\"text-align: right;\">\n",
       "      <th></th>\n",
       "      <th>instant</th>\n",
       "      <th>dteday</th>\n",
       "      <th>season</th>\n",
       "      <th>yr</th>\n",
       "      <th>mnth</th>\n",
       "      <th>hr</th>\n",
       "      <th>holiday</th>\n",
       "      <th>weekday</th>\n",
       "      <th>workingday</th>\n",
       "      <th>weathersit</th>\n",
       "      <th>temp</th>\n",
       "      <th>atemp</th>\n",
       "      <th>hum</th>\n",
       "      <th>windspeed</th>\n",
       "      <th>casual</th>\n",
       "      <th>registered</th>\n",
       "      <th>cnt</th>\n",
       "    </tr>\n",
       "  </thead>\n",
       "  <tbody>\n",
       "    <tr>\n",
       "      <th>0</th>\n",
       "      <td>1</td>\n",
       "      <td>2011-01-01</td>\n",
       "      <td>1</td>\n",
       "      <td>0</td>\n",
       "      <td>1</td>\n",
       "      <td>0</td>\n",
       "      <td>0</td>\n",
       "      <td>6</td>\n",
       "      <td>0</td>\n",
       "      <td>1</td>\n",
       "      <td>0.24</td>\n",
       "      <td>0.2879</td>\n",
       "      <td>0.81</td>\n",
       "      <td>0.0</td>\n",
       "      <td>3</td>\n",
       "      <td>13</td>\n",
       "      <td>16</td>\n",
       "    </tr>\n",
       "    <tr>\n",
       "      <th>1</th>\n",
       "      <td>2</td>\n",
       "      <td>2011-01-01</td>\n",
       "      <td>1</td>\n",
       "      <td>0</td>\n",
       "      <td>1</td>\n",
       "      <td>1</td>\n",
       "      <td>0</td>\n",
       "      <td>6</td>\n",
       "      <td>0</td>\n",
       "      <td>1</td>\n",
       "      <td>0.22</td>\n",
       "      <td>0.2727</td>\n",
       "      <td>0.80</td>\n",
       "      <td>0.0</td>\n",
       "      <td>8</td>\n",
       "      <td>32</td>\n",
       "      <td>40</td>\n",
       "    </tr>\n",
       "    <tr>\n",
       "      <th>2</th>\n",
       "      <td>3</td>\n",
       "      <td>2011-01-01</td>\n",
       "      <td>1</td>\n",
       "      <td>0</td>\n",
       "      <td>1</td>\n",
       "      <td>2</td>\n",
       "      <td>0</td>\n",
       "      <td>6</td>\n",
       "      <td>0</td>\n",
       "      <td>1</td>\n",
       "      <td>0.22</td>\n",
       "      <td>0.2727</td>\n",
       "      <td>0.80</td>\n",
       "      <td>0.0</td>\n",
       "      <td>5</td>\n",
       "      <td>27</td>\n",
       "      <td>32</td>\n",
       "    </tr>\n",
       "    <tr>\n",
       "      <th>3</th>\n",
       "      <td>4</td>\n",
       "      <td>2011-01-01</td>\n",
       "      <td>1</td>\n",
       "      <td>0</td>\n",
       "      <td>1</td>\n",
       "      <td>3</td>\n",
       "      <td>0</td>\n",
       "      <td>6</td>\n",
       "      <td>0</td>\n",
       "      <td>1</td>\n",
       "      <td>0.24</td>\n",
       "      <td>0.2879</td>\n",
       "      <td>0.75</td>\n",
       "      <td>0.0</td>\n",
       "      <td>3</td>\n",
       "      <td>10</td>\n",
       "      <td>13</td>\n",
       "    </tr>\n",
       "    <tr>\n",
       "      <th>4</th>\n",
       "      <td>5</td>\n",
       "      <td>2011-01-01</td>\n",
       "      <td>1</td>\n",
       "      <td>0</td>\n",
       "      <td>1</td>\n",
       "      <td>4</td>\n",
       "      <td>0</td>\n",
       "      <td>6</td>\n",
       "      <td>0</td>\n",
       "      <td>1</td>\n",
       "      <td>0.24</td>\n",
       "      <td>0.2879</td>\n",
       "      <td>0.75</td>\n",
       "      <td>0.0</td>\n",
       "      <td>0</td>\n",
       "      <td>1</td>\n",
       "      <td>1</td>\n",
       "    </tr>\n",
       "  </tbody>\n",
       "</table>\n",
       "</div>"
      ],
      "text/plain": [
       "   instant      dteday  season  yr  mnth  hr  holiday  weekday  workingday  \\\n",
       "0        1  2011-01-01       1   0     1   0        0        6           0   \n",
       "1        2  2011-01-01       1   0     1   1        0        6           0   \n",
       "2        3  2011-01-01       1   0     1   2        0        6           0   \n",
       "3        4  2011-01-01       1   0     1   3        0        6           0   \n",
       "4        5  2011-01-01       1   0     1   4        0        6           0   \n",
       "\n",
       "   weathersit  temp   atemp   hum  windspeed  casual  registered  cnt  \n",
       "0           1  0.24  0.2879  0.81        0.0       3          13   16  \n",
       "1           1  0.22  0.2727  0.80        0.0       8          32   40  \n",
       "2           1  0.22  0.2727  0.80        0.0       5          27   32  \n",
       "3           1  0.24  0.2879  0.75        0.0       3          10   13  \n",
       "4           1  0.24  0.2879  0.75        0.0       0           1    1  "
      ]
     },
     "execution_count": 149,
     "metadata": {},
     "output_type": "execute_result"
    }
   ],
   "source": [
    "data.head()"
   ]
  },
  {
   "cell_type": "markdown",
   "id": "cccf7a39",
   "metadata": {},
   "source": [
    "## Exploratory Data Analysis"
   ]
  },
  {
   "cell_type": "code",
   "execution_count": 150,
   "id": "02a3de50",
   "metadata": {},
   "outputs": [
    {
     "data": {
      "text/html": [
       "<div>\n",
       "<style scoped>\n",
       "    .dataframe tbody tr th:only-of-type {\n",
       "        vertical-align: middle;\n",
       "    }\n",
       "\n",
       "    .dataframe tbody tr th {\n",
       "        vertical-align: top;\n",
       "    }\n",
       "\n",
       "    .dataframe thead th {\n",
       "        text-align: right;\n",
       "    }\n",
       "</style>\n",
       "<table border=\"1\" class=\"dataframe\">\n",
       "  <thead>\n",
       "    <tr style=\"text-align: right;\">\n",
       "      <th></th>\n",
       "      <th>instant</th>\n",
       "      <th>season</th>\n",
       "      <th>yr</th>\n",
       "      <th>mnth</th>\n",
       "      <th>hr</th>\n",
       "      <th>holiday</th>\n",
       "      <th>weekday</th>\n",
       "      <th>workingday</th>\n",
       "      <th>weathersit</th>\n",
       "      <th>temp</th>\n",
       "      <th>atemp</th>\n",
       "      <th>hum</th>\n",
       "      <th>windspeed</th>\n",
       "      <th>casual</th>\n",
       "      <th>registered</th>\n",
       "      <th>cnt</th>\n",
       "    </tr>\n",
       "  </thead>\n",
       "  <tbody>\n",
       "    <tr>\n",
       "      <th>count</th>\n",
       "      <td>17379.0000</td>\n",
       "      <td>17379.000000</td>\n",
       "      <td>17379.000000</td>\n",
       "      <td>17379.000000</td>\n",
       "      <td>17379.000000</td>\n",
       "      <td>17379.000000</td>\n",
       "      <td>17379.000000</td>\n",
       "      <td>17379.000000</td>\n",
       "      <td>17379.000000</td>\n",
       "      <td>17379.000000</td>\n",
       "      <td>17379.000000</td>\n",
       "      <td>17379.000000</td>\n",
       "      <td>17379.000000</td>\n",
       "      <td>17379.000000</td>\n",
       "      <td>17379.000000</td>\n",
       "      <td>17379.000000</td>\n",
       "    </tr>\n",
       "    <tr>\n",
       "      <th>mean</th>\n",
       "      <td>8690.0000</td>\n",
       "      <td>2.501640</td>\n",
       "      <td>0.502561</td>\n",
       "      <td>6.537775</td>\n",
       "      <td>11.546752</td>\n",
       "      <td>0.028770</td>\n",
       "      <td>3.003683</td>\n",
       "      <td>0.682721</td>\n",
       "      <td>1.425283</td>\n",
       "      <td>0.496987</td>\n",
       "      <td>0.475775</td>\n",
       "      <td>0.627229</td>\n",
       "      <td>0.190098</td>\n",
       "      <td>35.676218</td>\n",
       "      <td>153.786869</td>\n",
       "      <td>189.463088</td>\n",
       "    </tr>\n",
       "    <tr>\n",
       "      <th>std</th>\n",
       "      <td>5017.0295</td>\n",
       "      <td>1.106918</td>\n",
       "      <td>0.500008</td>\n",
       "      <td>3.438776</td>\n",
       "      <td>6.914405</td>\n",
       "      <td>0.167165</td>\n",
       "      <td>2.005771</td>\n",
       "      <td>0.465431</td>\n",
       "      <td>0.639357</td>\n",
       "      <td>0.192556</td>\n",
       "      <td>0.171850</td>\n",
       "      <td>0.192930</td>\n",
       "      <td>0.122340</td>\n",
       "      <td>49.305030</td>\n",
       "      <td>151.357286</td>\n",
       "      <td>181.387599</td>\n",
       "    </tr>\n",
       "    <tr>\n",
       "      <th>min</th>\n",
       "      <td>1.0000</td>\n",
       "      <td>1.000000</td>\n",
       "      <td>0.000000</td>\n",
       "      <td>1.000000</td>\n",
       "      <td>0.000000</td>\n",
       "      <td>0.000000</td>\n",
       "      <td>0.000000</td>\n",
       "      <td>0.000000</td>\n",
       "      <td>1.000000</td>\n",
       "      <td>0.020000</td>\n",
       "      <td>0.000000</td>\n",
       "      <td>0.000000</td>\n",
       "      <td>0.000000</td>\n",
       "      <td>0.000000</td>\n",
       "      <td>0.000000</td>\n",
       "      <td>1.000000</td>\n",
       "    </tr>\n",
       "    <tr>\n",
       "      <th>25%</th>\n",
       "      <td>4345.5000</td>\n",
       "      <td>2.000000</td>\n",
       "      <td>0.000000</td>\n",
       "      <td>4.000000</td>\n",
       "      <td>6.000000</td>\n",
       "      <td>0.000000</td>\n",
       "      <td>1.000000</td>\n",
       "      <td>0.000000</td>\n",
       "      <td>1.000000</td>\n",
       "      <td>0.340000</td>\n",
       "      <td>0.333300</td>\n",
       "      <td>0.480000</td>\n",
       "      <td>0.104500</td>\n",
       "      <td>4.000000</td>\n",
       "      <td>34.000000</td>\n",
       "      <td>40.000000</td>\n",
       "    </tr>\n",
       "    <tr>\n",
       "      <th>50%</th>\n",
       "      <td>8690.0000</td>\n",
       "      <td>3.000000</td>\n",
       "      <td>1.000000</td>\n",
       "      <td>7.000000</td>\n",
       "      <td>12.000000</td>\n",
       "      <td>0.000000</td>\n",
       "      <td>3.000000</td>\n",
       "      <td>1.000000</td>\n",
       "      <td>1.000000</td>\n",
       "      <td>0.500000</td>\n",
       "      <td>0.484800</td>\n",
       "      <td>0.630000</td>\n",
       "      <td>0.194000</td>\n",
       "      <td>17.000000</td>\n",
       "      <td>115.000000</td>\n",
       "      <td>142.000000</td>\n",
       "    </tr>\n",
       "    <tr>\n",
       "      <th>75%</th>\n",
       "      <td>13034.5000</td>\n",
       "      <td>3.000000</td>\n",
       "      <td>1.000000</td>\n",
       "      <td>10.000000</td>\n",
       "      <td>18.000000</td>\n",
       "      <td>0.000000</td>\n",
       "      <td>5.000000</td>\n",
       "      <td>1.000000</td>\n",
       "      <td>2.000000</td>\n",
       "      <td>0.660000</td>\n",
       "      <td>0.621200</td>\n",
       "      <td>0.780000</td>\n",
       "      <td>0.253700</td>\n",
       "      <td>48.000000</td>\n",
       "      <td>220.000000</td>\n",
       "      <td>281.000000</td>\n",
       "    </tr>\n",
       "    <tr>\n",
       "      <th>max</th>\n",
       "      <td>17379.0000</td>\n",
       "      <td>4.000000</td>\n",
       "      <td>1.000000</td>\n",
       "      <td>12.000000</td>\n",
       "      <td>23.000000</td>\n",
       "      <td>1.000000</td>\n",
       "      <td>6.000000</td>\n",
       "      <td>1.000000</td>\n",
       "      <td>4.000000</td>\n",
       "      <td>1.000000</td>\n",
       "      <td>1.000000</td>\n",
       "      <td>1.000000</td>\n",
       "      <td>0.850700</td>\n",
       "      <td>367.000000</td>\n",
       "      <td>886.000000</td>\n",
       "      <td>977.000000</td>\n",
       "    </tr>\n",
       "  </tbody>\n",
       "</table>\n",
       "</div>"
      ],
      "text/plain": [
       "          instant        season            yr          mnth            hr  \\\n",
       "count  17379.0000  17379.000000  17379.000000  17379.000000  17379.000000   \n",
       "mean    8690.0000      2.501640      0.502561      6.537775     11.546752   \n",
       "std     5017.0295      1.106918      0.500008      3.438776      6.914405   \n",
       "min        1.0000      1.000000      0.000000      1.000000      0.000000   \n",
       "25%     4345.5000      2.000000      0.000000      4.000000      6.000000   \n",
       "50%     8690.0000      3.000000      1.000000      7.000000     12.000000   \n",
       "75%    13034.5000      3.000000      1.000000     10.000000     18.000000   \n",
       "max    17379.0000      4.000000      1.000000     12.000000     23.000000   \n",
       "\n",
       "            holiday       weekday    workingday    weathersit          temp  \\\n",
       "count  17379.000000  17379.000000  17379.000000  17379.000000  17379.000000   \n",
       "mean       0.028770      3.003683      0.682721      1.425283      0.496987   \n",
       "std        0.167165      2.005771      0.465431      0.639357      0.192556   \n",
       "min        0.000000      0.000000      0.000000      1.000000      0.020000   \n",
       "25%        0.000000      1.000000      0.000000      1.000000      0.340000   \n",
       "50%        0.000000      3.000000      1.000000      1.000000      0.500000   \n",
       "75%        0.000000      5.000000      1.000000      2.000000      0.660000   \n",
       "max        1.000000      6.000000      1.000000      4.000000      1.000000   \n",
       "\n",
       "              atemp           hum     windspeed        casual    registered  \\\n",
       "count  17379.000000  17379.000000  17379.000000  17379.000000  17379.000000   \n",
       "mean       0.475775      0.627229      0.190098     35.676218    153.786869   \n",
       "std        0.171850      0.192930      0.122340     49.305030    151.357286   \n",
       "min        0.000000      0.000000      0.000000      0.000000      0.000000   \n",
       "25%        0.333300      0.480000      0.104500      4.000000     34.000000   \n",
       "50%        0.484800      0.630000      0.194000     17.000000    115.000000   \n",
       "75%        0.621200      0.780000      0.253700     48.000000    220.000000   \n",
       "max        1.000000      1.000000      0.850700    367.000000    886.000000   \n",
       "\n",
       "                cnt  \n",
       "count  17379.000000  \n",
       "mean     189.463088  \n",
       "std      181.387599  \n",
       "min        1.000000  \n",
       "25%       40.000000  \n",
       "50%      142.000000  \n",
       "75%      281.000000  \n",
       "max      977.000000  "
      ]
     },
     "execution_count": 150,
     "metadata": {},
     "output_type": "execute_result"
    }
   ],
   "source": [
    "data.describe()"
   ]
  },
  {
   "cell_type": "code",
   "execution_count": 151,
   "id": "4353b344",
   "metadata": {},
   "outputs": [
    {
     "name": "stdout",
     "output_type": "stream",
     "text": [
      "<class 'pandas.core.frame.DataFrame'>\n",
      "RangeIndex: 17379 entries, 0 to 17378\n",
      "Data columns (total 17 columns):\n",
      " #   Column      Non-Null Count  Dtype  \n",
      "---  ------      --------------  -----  \n",
      " 0   instant     17379 non-null  int64  \n",
      " 1   dteday      17379 non-null  object \n",
      " 2   season      17379 non-null  int64  \n",
      " 3   yr          17379 non-null  int64  \n",
      " 4   mnth        17379 non-null  int64  \n",
      " 5   hr          17379 non-null  int64  \n",
      " 6   holiday     17379 non-null  int64  \n",
      " 7   weekday     17379 non-null  int64  \n",
      " 8   workingday  17379 non-null  int64  \n",
      " 9   weathersit  17379 non-null  int64  \n",
      " 10  temp        17379 non-null  float64\n",
      " 11  atemp       17379 non-null  float64\n",
      " 12  hum         17379 non-null  float64\n",
      " 13  windspeed   17379 non-null  float64\n",
      " 14  casual      17379 non-null  int64  \n",
      " 15  registered  17379 non-null  int64  \n",
      " 16  cnt         17379 non-null  int64  \n",
      "dtypes: float64(4), int64(12), object(1)\n",
      "memory usage: 2.3+ MB\n"
     ]
    }
   ],
   "source": [
    "data.info()"
   ]
  },
  {
   "cell_type": "code",
   "execution_count": 152,
   "id": "c92489a7",
   "metadata": {},
   "outputs": [
    {
     "name": "stderr",
     "output_type": "stream",
     "text": [
      "C:\\Users\\HP\\anaconda3\\lib\\site-packages\\seaborn\\distributions.py:2619: FutureWarning: `distplot` is a deprecated function and will be removed in a future version. Please adapt your code to use either `displot` (a figure-level function with similar flexibility) or `histplot` (an axes-level function for histograms).\n",
      "  warnings.warn(msg, FutureWarning)\n"
     ]
    },
    {
     "data": {
      "text/plain": [
       "<AxesSubplot:xlabel='cnt', ylabel='Density'>"
      ]
     },
     "execution_count": 152,
     "metadata": {},
     "output_type": "execute_result"
    },
    {
     "data": {
      "image/png": "[encoded data removed]",
      "text/plain": [
       "<Figure size 432x288 with 1 Axes>"
      ]
     },
     "metadata": {},
     "output_type": "display_data"
    }
   ],
   "source": [
    "cnt_graph = sns.distplot(data[\"cnt\"])\n",
    "cnt_graph"
   ]
  },
  {
   "cell_type": "code",
   "execution_count": 153,
   "id": "937fd2fc",
   "metadata": {},
   "outputs": [
    {
     "name": "stdout",
     "output_type": "stream",
     "text": [
      "Skewness : 1.277412\n",
      "Kurtosis : 1.417203\n"
     ]
    }
   ],
   "source": [
    "print(\"Skewness : %f\" % data[\"cnt\"].skew())\n",
    "print(\"Kurtosis : %f\" % data[\"cnt\"].kurt())"
   ]
  },
  {
   "cell_type": "markdown",
   "id": "ed752ee4",
   "metadata": {},
   "source": [
    "Data is positively skewed"
   ]
  },
  {
   "cell_type": "code",
   "execution_count": 154,
   "id": "4db18c20",
   "metadata": {},
   "outputs": [
    {
     "data": {
      "text/plain": [
       "instant       0\n",
       "dteday        0\n",
       "season        0\n",
       "yr            0\n",
       "mnth          0\n",
       "hr            0\n",
       "holiday       0\n",
       "weekday       0\n",
       "workingday    0\n",
       "weathersit    0\n",
       "temp          0\n",
       "atemp         0\n",
       "hum           0\n",
       "windspeed     0\n",
       "casual        0\n",
       "registered    0\n",
       "cnt           0\n",
       "dtype: int64"
      ]
     },
     "execution_count": 154,
     "metadata": {},
     "output_type": "execute_result"
    }
   ],
   "source": [
    "data.isnull().sum() # Finding missing values"
   ]
  },
  {
   "cell_type": "markdown",
   "id": "6c6e76da",
   "metadata": {},
   "source": [
    "No missing value is present here"
   ]
  },
  {
   "cell_type": "code",
   "execution_count": 155,
   "id": "4d3d6bd4",
   "metadata": {},
   "outputs": [],
   "source": [
    "data.dteday = pd.to_datetime(data.dteday)"
   ]
  },
  {
   "cell_type": "code",
   "execution_count": 156,
   "id": "5e8e9d81",
   "metadata": {},
   "outputs": [
    {
     "data": {
      "text/html": [
       "<div>\n",
       "<style scoped>\n",
       "    .dataframe tbody tr th:only-of-type {\n",
       "        vertical-align: middle;\n",
       "    }\n",
       "\n",
       "    .dataframe tbody tr th {\n",
       "        vertical-align: top;\n",
       "    }\n",
       "\n",
       "    .dataframe thead th {\n",
       "        text-align: right;\n",
       "    }\n",
       "</style>\n",
       "<table border=\"1\" class=\"dataframe\">\n",
       "  <thead>\n",
       "    <tr style=\"text-align: right;\">\n",
       "      <th></th>\n",
       "      <th>instant</th>\n",
       "      <th>season</th>\n",
       "      <th>yr</th>\n",
       "      <th>mnth</th>\n",
       "      <th>hr</th>\n",
       "      <th>holiday</th>\n",
       "      <th>weekday</th>\n",
       "      <th>workingday</th>\n",
       "      <th>weathersit</th>\n",
       "      <th>temp</th>\n",
       "      <th>atemp</th>\n",
       "      <th>hum</th>\n",
       "      <th>windspeed</th>\n",
       "      <th>casual</th>\n",
       "      <th>registered</th>\n",
       "      <th>cnt</th>\n",
       "    </tr>\n",
       "  </thead>\n",
       "  <tbody>\n",
       "    <tr>\n",
       "      <th>instant</th>\n",
       "      <td>1.000000</td>\n",
       "      <td>0.404046</td>\n",
       "      <td>0.866014</td>\n",
       "      <td>0.489164</td>\n",
       "      <td>-0.004775</td>\n",
       "      <td>0.014723</td>\n",
       "      <td>0.001357</td>\n",
       "      <td>-0.003416</td>\n",
       "      <td>-0.014198</td>\n",
       "      <td>0.136178</td>\n",
       "      <td>0.137615</td>\n",
       "      <td>0.009577</td>\n",
       "      <td>-0.074505</td>\n",
       "      <td>0.158295</td>\n",
       "      <td>0.282046</td>\n",
       "      <td>0.278379</td>\n",
       "    </tr>\n",
       "    <tr>\n",
       "      <th>season</th>\n",
       "      <td>0.404046</td>\n",
       "      <td>1.000000</td>\n",
       "      <td>-0.010742</td>\n",
       "      <td>0.830386</td>\n",
       "      <td>-0.006117</td>\n",
       "      <td>-0.009585</td>\n",
       "      <td>-0.002335</td>\n",
       "      <td>0.013743</td>\n",
       "      <td>-0.014524</td>\n",
       "      <td>0.312025</td>\n",
       "      <td>0.319380</td>\n",
       "      <td>0.150625</td>\n",
       "      <td>-0.149773</td>\n",
       "      <td>0.120206</td>\n",
       "      <td>0.174226</td>\n",
       "      <td>0.178056</td>\n",
       "    </tr>\n",
       "    <tr>\n",
       "      <th>yr</th>\n",
       "      <td>0.866014</td>\n",
       "      <td>-0.010742</td>\n",
       "      <td>1.000000</td>\n",
       "      <td>-0.010473</td>\n",
       "      <td>-0.003867</td>\n",
       "      <td>0.006692</td>\n",
       "      <td>-0.004485</td>\n",
       "      <td>-0.002196</td>\n",
       "      <td>-0.019157</td>\n",
       "      <td>0.040913</td>\n",
       "      <td>0.039222</td>\n",
       "      <td>-0.083546</td>\n",
       "      <td>-0.008740</td>\n",
       "      <td>0.142779</td>\n",
       "      <td>0.253684</td>\n",
       "      <td>0.250495</td>\n",
       "    </tr>\n",
       "    <tr>\n",
       "      <th>mnth</th>\n",
       "      <td>0.489164</td>\n",
       "      <td>0.830386</td>\n",
       "      <td>-0.010473</td>\n",
       "      <td>1.000000</td>\n",
       "      <td>-0.005772</td>\n",
       "      <td>0.018430</td>\n",
       "      <td>0.010400</td>\n",
       "      <td>-0.003477</td>\n",
       "      <td>0.005400</td>\n",
       "      <td>0.201691</td>\n",
       "      <td>0.208096</td>\n",
       "      <td>0.164411</td>\n",
       "      <td>-0.135386</td>\n",
       "      <td>0.068457</td>\n",
       "      <td>0.122273</td>\n",
       "      <td>0.120638</td>\n",
       "    </tr>\n",
       "    <tr>\n",
       "      <th>hr</th>\n",
       "      <td>-0.004775</td>\n",
       "      <td>-0.006117</td>\n",
       "      <td>-0.003867</td>\n",
       "      <td>-0.005772</td>\n",
       "      <td>1.000000</td>\n",
       "      <td>0.000479</td>\n",
       "      <td>-0.003498</td>\n",
       "      <td>0.002285</td>\n",
       "      <td>-0.020203</td>\n",
       "      <td>0.137603</td>\n",
       "      <td>0.133750</td>\n",
       "      <td>-0.276498</td>\n",
       "      <td>0.137252</td>\n",
       "      <td>0.301202</td>\n",
       "      <td>0.374141</td>\n",
       "      <td>0.394071</td>\n",
       "    </tr>\n",
       "    <tr>\n",
       "      <th>holiday</th>\n",
       "      <td>0.014723</td>\n",
       "      <td>-0.009585</td>\n",
       "      <td>0.006692</td>\n",
       "      <td>0.018430</td>\n",
       "      <td>0.000479</td>\n",
       "      <td>1.000000</td>\n",
       "      <td>-0.102088</td>\n",
       "      <td>-0.252471</td>\n",
       "      <td>-0.017036</td>\n",
       "      <td>-0.027340</td>\n",
       "      <td>-0.030973</td>\n",
       "      <td>-0.010588</td>\n",
       "      <td>0.003988</td>\n",
       "      <td>0.031564</td>\n",
       "      <td>-0.047345</td>\n",
       "      <td>-0.030927</td>\n",
       "    </tr>\n",
       "    <tr>\n",
       "      <th>weekday</th>\n",
       "      <td>0.001357</td>\n",
       "      <td>-0.002335</td>\n",
       "      <td>-0.004485</td>\n",
       "      <td>0.010400</td>\n",
       "      <td>-0.003498</td>\n",
       "      <td>-0.102088</td>\n",
       "      <td>1.000000</td>\n",
       "      <td>0.035955</td>\n",
       "      <td>0.003311</td>\n",
       "      <td>-0.001795</td>\n",
       "      <td>-0.008821</td>\n",
       "      <td>-0.037158</td>\n",
       "      <td>0.011502</td>\n",
       "      <td>0.032721</td>\n",
       "      <td>0.021578</td>\n",
       "      <td>0.026900</td>\n",
       "    </tr>\n",
       "    <tr>\n",
       "      <th>workingday</th>\n",
       "      <td>-0.003416</td>\n",
       "      <td>0.013743</td>\n",
       "      <td>-0.002196</td>\n",
       "      <td>-0.003477</td>\n",
       "      <td>0.002285</td>\n",
       "      <td>-0.252471</td>\n",
       "      <td>0.035955</td>\n",
       "      <td>1.000000</td>\n",
       "      <td>0.044672</td>\n",
       "      <td>0.055390</td>\n",
       "      <td>0.054667</td>\n",
       "      <td>0.015688</td>\n",
       "      <td>-0.011830</td>\n",
       "      <td>-0.300942</td>\n",
       "      <td>0.134326</td>\n",
       "      <td>0.030284</td>\n",
       "    </tr>\n",
       "    <tr>\n",
       "      <th>weathersit</th>\n",
       "      <td>-0.014198</td>\n",
       "      <td>-0.014524</td>\n",
       "      <td>-0.019157</td>\n",
       "      <td>0.005400</td>\n",
       "      <td>-0.020203</td>\n",
       "      <td>-0.017036</td>\n",
       "      <td>0.003311</td>\n",
       "      <td>0.044672</td>\n",
       "      <td>1.000000</td>\n",
       "      <td>-0.102640</td>\n",
       "      <td>-0.105563</td>\n",
       "      <td>0.418130</td>\n",
       "      <td>0.026226</td>\n",
       "      <td>-0.152628</td>\n",
       "      <td>-0.120966</td>\n",
       "      <td>-0.142426</td>\n",
       "    </tr>\n",
       "    <tr>\n",
       "      <th>temp</th>\n",
       "      <td>0.136178</td>\n",
       "      <td>0.312025</td>\n",
       "      <td>0.040913</td>\n",
       "      <td>0.201691</td>\n",
       "      <td>0.137603</td>\n",
       "      <td>-0.027340</td>\n",
       "      <td>-0.001795</td>\n",
       "      <td>0.055390</td>\n",
       "      <td>-0.102640</td>\n",
       "      <td>1.000000</td>\n",
       "      <td>0.987672</td>\n",
       "      <td>-0.069881</td>\n",
       "      <td>-0.023125</td>\n",
       "      <td>0.459616</td>\n",
       "      <td>0.335361</td>\n",
       "      <td>0.404772</td>\n",
       "    </tr>\n",
       "    <tr>\n",
       "      <th>atemp</th>\n",
       "      <td>0.137615</td>\n",
       "      <td>0.319380</td>\n",
       "      <td>0.039222</td>\n",
       "      <td>0.208096</td>\n",
       "      <td>0.133750</td>\n",
       "      <td>-0.030973</td>\n",
       "      <td>-0.008821</td>\n",
       "      <td>0.054667</td>\n",
       "      <td>-0.105563</td>\n",
       "      <td>0.987672</td>\n",
       "      <td>1.000000</td>\n",
       "      <td>-0.051918</td>\n",
       "      <td>-0.062336</td>\n",
       "      <td>0.454080</td>\n",
       "      <td>0.332559</td>\n",
       "      <td>0.400929</td>\n",
       "    </tr>\n",
       "    <tr>\n",
       "      <th>hum</th>\n",
       "      <td>0.009577</td>\n",
       "      <td>0.150625</td>\n",
       "      <td>-0.083546</td>\n",
       "      <td>0.164411</td>\n",
       "      <td>-0.276498</td>\n",
       "      <td>-0.010588</td>\n",
       "      <td>-0.037158</td>\n",
       "      <td>0.015688</td>\n",
       "      <td>0.418130</td>\n",
       "      <td>-0.069881</td>\n",
       "      <td>-0.051918</td>\n",
       "      <td>1.000000</td>\n",
       "      <td>-0.290105</td>\n",
       "      <td>-0.347028</td>\n",
       "      <td>-0.273933</td>\n",
       "      <td>-0.322911</td>\n",
       "    </tr>\n",
       "    <tr>\n",
       "      <th>windspeed</th>\n",
       "      <td>-0.074505</td>\n",
       "      <td>-0.149773</td>\n",
       "      <td>-0.008740</td>\n",
       "      <td>-0.135386</td>\n",
       "      <td>0.137252</td>\n",
       "      <td>0.003988</td>\n",
       "      <td>0.011502</td>\n",
       "      <td>-0.011830</td>\n",
       "      <td>0.026226</td>\n",
       "      <td>-0.023125</td>\n",
       "      <td>-0.062336</td>\n",
       "      <td>-0.290105</td>\n",
       "      <td>1.000000</td>\n",
       "      <td>0.090287</td>\n",
       "      <td>0.082321</td>\n",
       "      <td>0.093234</td>\n",
       "    </tr>\n",
       "    <tr>\n",
       "      <th>casual</th>\n",
       "      <td>0.158295</td>\n",
       "      <td>0.120206</td>\n",
       "      <td>0.142779</td>\n",
       "      <td>0.068457</td>\n",
       "      <td>0.301202</td>\n",
       "      <td>0.031564</td>\n",
       "      <td>0.032721</td>\n",
       "      <td>-0.300942</td>\n",
       "      <td>-0.152628</td>\n",
       "      <td>0.459616</td>\n",
       "      <td>0.454080</td>\n",
       "      <td>-0.347028</td>\n",
       "      <td>0.090287</td>\n",
       "      <td>1.000000</td>\n",
       "      <td>0.506618</td>\n",
       "      <td>0.694564</td>\n",
       "    </tr>\n",
       "    <tr>\n",
       "      <th>registered</th>\n",
       "      <td>0.282046</td>\n",
       "      <td>0.174226</td>\n",
       "      <td>0.253684</td>\n",
       "      <td>0.122273</td>\n",
       "      <td>0.374141</td>\n",
       "      <td>-0.047345</td>\n",
       "      <td>0.021578</td>\n",
       "      <td>0.134326</td>\n",
       "      <td>-0.120966</td>\n",
       "      <td>0.335361</td>\n",
       "      <td>0.332559</td>\n",
       "      <td>-0.273933</td>\n",
       "      <td>0.082321</td>\n",
       "      <td>0.506618</td>\n",
       "      <td>1.000000</td>\n",
       "      <td>0.972151</td>\n",
       "    </tr>\n",
       "    <tr>\n",
       "      <th>cnt</th>\n",
       "      <td>0.278379</td>\n",
       "      <td>0.178056</td>\n",
       "      <td>0.250495</td>\n",
       "      <td>0.120638</td>\n",
       "      <td>0.394071</td>\n",
       "      <td>-0.030927</td>\n",
       "      <td>0.026900</td>\n",
       "      <td>0.030284</td>\n",
       "      <td>-0.142426</td>\n",
       "      <td>0.404772</td>\n",
       "      <td>0.400929</td>\n",
       "      <td>-0.322911</td>\n",
       "      <td>0.093234</td>\n",
       "      <td>0.694564</td>\n",
       "      <td>0.972151</td>\n",
       "      <td>1.000000</td>\n",
       "    </tr>\n",
       "  </tbody>\n",
       "</table>\n",
       "</div>"
      ],
      "text/plain": [
       "             instant    season        yr      mnth        hr   holiday  \\\n",
       "instant     1.000000  0.404046  0.866014  0.489164 -0.004775  0.014723   \n",
       "season      0.404046  1.000000 -0.010742  0.830386 -0.006117 -0.009585   \n",
       "yr          0.866014 -0.010742  1.000000 -0.010473 -0.003867  0.006692   \n",
       "mnth        0.489164  0.830386 -0.010473  1.000000 -0.005772  0.018430   \n",
       "hr         -0.004775 -0.006117 -0.003867 -0.005772  1.000000  0.000479   \n",
       "holiday     0.014723 -0.009585  0.006692  0.018430  0.000479  1.000000   \n",
       "weekday     0.001357 -0.002335 -0.004485  0.010400 -0.003498 -0.102088   \n",
       "workingday -0.003416  0.013743 -0.002196 -0.003477  0.002285 -0.252471   \n",
       "weathersit -0.014198 -0.014524 -0.019157  0.005400 -0.020203 -0.017036   \n",
       "temp        0.136178  0.312025  0.040913  0.201691  0.137603 -0.027340   \n",
       "atemp       0.137615  0.319380  0.039222  0.208096  0.133750 -0.030973   \n",
       "hum         0.009577  0.150625 -0.083546  0.164411 -0.276498 -0.010588   \n",
       "windspeed  -0.074505 -0.149773 -0.008740 -0.135386  0.137252  0.003988   \n",
       "casual      0.158295  0.120206  0.142779  0.068457  0.301202  0.031564   \n",
       "registered  0.282046  0.174226  0.253684  0.122273  0.374141 -0.047345   \n",
       "cnt         0.278379  0.178056  0.250495  0.120638  0.394071 -0.030927   \n",
       "\n",
       "             weekday  workingday  weathersit      temp     atemp       hum  \\\n",
       "instant     0.001357   -0.003416   -0.014198  0.136178  0.137615  0.009577   \n",
       "season     -0.002335    0.013743   -0.014524  0.312025  0.319380  0.150625   \n",
       "yr         -0.004485   -0.002196   -0.019157  0.040913  0.039222 -0.083546   \n",
       "mnth        0.010400   -0.003477    0.005400  0.201691  0.208096  0.164411   \n",
       "hr         -0.003498    0.002285   -0.020203  0.137603  0.133750 -0.276498   \n",
       "holiday    -0.102088   -0.252471   -0.017036 -0.027340 -0.030973 -0.010588   \n",
       "weekday     1.000000    0.035955    0.003311 -0.001795 -0.008821 -0.037158   \n",
       "workingday  0.035955    1.000000    0.044672  0.055390  0.054667  0.015688   \n",
       "weathersit  0.003311    0.044672    1.000000 -0.102640 -0.105563  0.418130   \n",
       "temp       -0.001795    0.055390   -0.102640  1.000000  0.987672 -0.069881   \n",
       "atemp      -0.008821    0.054667   -0.105563  0.987672  1.000000 -0.051918   \n",
       "hum        -0.037158    0.015688    0.418130 -0.069881 -0.051918  1.000000   \n",
       "windspeed   0.011502   -0.011830    0.026226 -0.023125 -0.062336 -0.290105   \n",
       "casual      0.032721   -0.300942   -0.152628  0.459616  0.454080 -0.347028   \n",
       "registered  0.021578    0.134326   -0.120966  0.335361  0.332559 -0.273933   \n",
       "cnt         0.026900    0.030284   -0.142426  0.404772  0.400929 -0.322911   \n",
       "\n",
       "            windspeed    casual  registered       cnt  \n",
       "instant     -0.074505  0.158295    0.282046  0.278379  \n",
       "season      -0.149773  0.120206    0.174226  0.178056  \n",
       "yr          -0.008740  0.142779    0.253684  0.250495  \n",
       "mnth        -0.135386  0.068457    0.122273  0.120638  \n",
       "hr           0.137252  0.301202    0.374141  0.394071  \n",
       "holiday      0.003988  0.031564   -0.047345 -0.030927  \n",
       "weekday      0.011502  0.032721    0.021578  0.026900  \n",
       "workingday  -0.011830 -0.300942    0.134326  0.030284  \n",
       "weathersit   0.026226 -0.152628   -0.120966 -0.142426  \n",
       "temp        -0.023125  0.459616    0.335361  0.404772  \n",
       "atemp       -0.062336  0.454080    0.332559  0.400929  \n",
       "hum         -0.290105 -0.347028   -0.273933 -0.322911  \n",
       "windspeed    1.000000  0.090287    0.082321  0.093234  \n",
       "casual       0.090287  1.000000    0.506618  0.694564  \n",
       "registered   0.082321  0.506618    1.000000  0.972151  \n",
       "cnt          0.093234  0.694564    0.972151  1.000000  "
      ]
     },
     "execution_count": 156,
     "metadata": {},
     "output_type": "execute_result"
    }
   ],
   "source": [
    "data.corr()"
   ]
  },
  {
   "cell_type": "code",
   "execution_count": 157,
   "id": "64945ae0",
   "metadata": {},
   "outputs": [],
   "source": [
    "data['season']=data.season.astype('category')"
   ]
  },
  {
   "cell_type": "code",
   "execution_count": 158,
   "id": "014309b1",
   "metadata": {},
   "outputs": [],
   "source": [
    "data['weekday']=data.weekday.astype('category')"
   ]
  },
  {
   "cell_type": "code",
   "execution_count": 159,
   "id": "cfc9ea52",
   "metadata": {},
   "outputs": [],
   "source": [
    "data['workingday']=data.workingday.astype('category')"
   ]
  },
  {
   "cell_type": "code",
   "execution_count": 160,
   "id": "658d783f",
   "metadata": {},
   "outputs": [],
   "source": [
    "data['weathersit']=data.weathersit.astype('category')"
   ]
  },
  {
   "cell_type": "code",
   "execution_count": 161,
   "id": "6ed8b1ce",
   "metadata": {},
   "outputs": [],
   "source": [
    "data['yr']=data.yr.astype('category')"
   ]
  },
  {
   "cell_type": "code",
   "execution_count": 162,
   "id": "b26b39c0",
   "metadata": {},
   "outputs": [],
   "source": [
    "data['mnth']=data.mnth.astype('category')"
   ]
  },
  {
   "cell_type": "code",
   "execution_count": 163,
   "id": "d652e54a",
   "metadata": {},
   "outputs": [],
   "source": [
    "data['hr']=data.hr.astype('category')"
   ]
  },
  {
   "cell_type": "code",
   "execution_count": 164,
   "id": "a0f0bcb9",
   "metadata": {},
   "outputs": [],
   "source": [
    "data['holiday']=data.holiday.astype('category')"
   ]
  },
  {
   "cell_type": "code",
   "execution_count": 165,
   "id": "75590fb7",
   "metadata": {},
   "outputs": [
    {
     "name": "stdout",
     "output_type": "stream",
     "text": [
      "<class 'pandas.core.frame.DataFrame'>\n",
      "RangeIndex: 17379 entries, 0 to 17378\n",
      "Data columns (total 17 columns):\n",
      " #   Column      Non-Null Count  Dtype         \n",
      "---  ------      --------------  -----         \n",
      " 0   instant     17379 non-null  int64         \n",
      " 1   dteday      17379 non-null  datetime64[ns]\n",
      " 2   season      17379 non-null  category      \n",
      " 3   yr          17379 non-null  category      \n",
      " 4   mnth        17379 non-null  category      \n",
      " 5   hr          17379 non-null  category      \n",
      " 6   holiday     17379 non-null  category      \n",
      " 7   weekday     17379 non-null  category      \n",
      " 8   workingday  17379 non-null  category      \n",
      " 9   weathersit  17379 non-null  category      \n",
      " 10  temp        17379 non-null  float64       \n",
      " 11  atemp       17379 non-null  float64       \n",
      " 12  hum         17379 non-null  float64       \n",
      " 13  windspeed   17379 non-null  float64       \n",
      " 14  casual      17379 non-null  int64         \n",
      " 15  registered  17379 non-null  int64         \n",
      " 16  cnt         17379 non-null  int64         \n",
      "dtypes: category(8), datetime64[ns](1), float64(4), int64(4)\n",
      "memory usage: 1.3 MB\n"
     ]
    }
   ],
   "source": [
    "data.info()"
   ]
  },
  {
   "cell_type": "code",
   "execution_count": 166,
   "id": "feedad75",
   "metadata": {},
   "outputs": [
    {
     "data": {
      "text/plain": [
       "<AxesSubplot:xlabel='season', ylabel='cnt'>"
      ]
     },
     "execution_count": 166,
     "metadata": {},
     "output_type": "execute_result"
    },
    {
     "data": {
      "image/png": "[encoded data removed]",
      "text/plain": [
       "<Figure size 432x288 with 1 Axes>"
      ]
     },
     "metadata": {},
     "output_type": "display_data"
    }
   ],
   "source": [
    "sns.barplot(x=\"season\", y = \"cnt\", data = data)"
   ]
  },
  {
   "cell_type": "markdown",
   "id": "e954b2b6",
   "metadata": {},
   "source": [
    "Bike sharing in fall season is higher than other season"
   ]
  },
  {
   "cell_type": "code",
   "execution_count": 167,
   "id": "1e591f24",
   "metadata": {},
   "outputs": [
    {
     "data": {
      "text/plain": [
       "<AxesSubplot:xlabel='weathersit', ylabel='cnt'>"
      ]
     },
     "execution_count": 167,
     "metadata": {},
     "output_type": "execute_result"
    },
    {
     "data": {
      "image/png": "[encoded data removed]",
      "text/plain": [
       "<Figure size 432x288 with 1 Axes>"
      ]
     },
     "metadata": {},
     "output_type": "display_data"
    }
   ],
   "source": [
    "sns.barplot(x=\"weathersit\", y = \"cnt\", data = data)"
   ]
  },
  {
   "cell_type": "markdown",
   "id": "890b3ee9",
   "metadata": {},
   "source": [
    "Bike sharing in clear weather is higher than other"
   ]
  },
  {
   "cell_type": "code",
   "execution_count": 168,
   "id": "3c14be54",
   "metadata": {},
   "outputs": [
    {
     "data": {
      "text/html": [
       "<div>\n",
       "<style scoped>\n",
       "    .dataframe tbody tr th:only-of-type {\n",
       "        vertical-align: middle;\n",
       "    }\n",
       "\n",
       "    .dataframe tbody tr th {\n",
       "        vertical-align: top;\n",
       "    }\n",
       "\n",
       "    .dataframe thead th {\n",
       "        text-align: right;\n",
       "    }\n",
       "</style>\n",
       "<table border=\"1\" class=\"dataframe\">\n",
       "  <thead>\n",
       "    <tr style=\"text-align: right;\">\n",
       "      <th>weathersit</th>\n",
       "      <th>1</th>\n",
       "      <th>2</th>\n",
       "      <th>3</th>\n",
       "      <th>4</th>\n",
       "    </tr>\n",
       "  </thead>\n",
       "  <tbody>\n",
       "    <tr>\n",
       "      <th>cnt</th>\n",
       "      <td>11413</td>\n",
       "      <td>4544</td>\n",
       "      <td>1419</td>\n",
       "      <td>3</td>\n",
       "    </tr>\n",
       "  </tbody>\n",
       "</table>\n",
       "</div>"
      ],
      "text/plain": [
       "weathersit      1     2     3  4\n",
       "cnt         11413  4544  1419  3"
      ]
     },
     "execution_count": 168,
     "metadata": {},
     "output_type": "execute_result"
    }
   ],
   "source": [
    "data.pivot_table(values='cnt',columns=['weathersit'],aggfunc='count')"
   ]
  },
  {
   "cell_type": "code",
   "execution_count": 169,
   "id": "f9a488a9",
   "metadata": {},
   "outputs": [
    {
     "data": {
      "text/html": [
       "<div>\n",
       "<style scoped>\n",
       "    .dataframe tbody tr th:only-of-type {\n",
       "        vertical-align: middle;\n",
       "    }\n",
       "\n",
       "    .dataframe tbody tr th {\n",
       "        vertical-align: top;\n",
       "    }\n",
       "\n",
       "    .dataframe thead th {\n",
       "        text-align: right;\n",
       "    }\n",
       "</style>\n",
       "<table border=\"1\" class=\"dataframe\">\n",
       "  <thead>\n",
       "    <tr style=\"text-align: right;\">\n",
       "      <th>yr</th>\n",
       "      <th>0</th>\n",
       "      <th>1</th>\n",
       "    </tr>\n",
       "  </thead>\n",
       "  <tbody>\n",
       "    <tr>\n",
       "      <th>cnt</th>\n",
       "      <td>8645</td>\n",
       "      <td>8734</td>\n",
       "    </tr>\n",
       "  </tbody>\n",
       "</table>\n",
       "</div>"
      ],
      "text/plain": [
       "yr      0     1\n",
       "cnt  8645  8734"
      ]
     },
     "execution_count": 169,
     "metadata": {},
     "output_type": "execute_result"
    }
   ],
   "source": [
    "data.pivot_table(values='cnt',columns='yr',aggfunc='count')"
   ]
  },
  {
   "cell_type": "code",
   "execution_count": 170,
   "id": "86144011",
   "metadata": {},
   "outputs": [
    {
     "data": {
      "text/plain": [
       "<seaborn.axisgrid.FacetGrid at 0x1bb528ff2e0>"
      ]
     },
     "execution_count": 170,
     "metadata": {},
     "output_type": "execute_result"
    },
    {
     "data": {
      "image/png": "[encoded data removed]",
      "text/plain": [
       "<Figure size 360x360 with 1 Axes>"
      ]
     },
     "metadata": {},
     "output_type": "display_data"
    }
   ],
   "source": [
    "sns.catplot(data=data,x='yr',y='cnt',kind='violin',hue='yr')"
   ]
  },
  {
   "cell_type": "markdown",
   "id": "a3d1e92d",
   "metadata": {},
   "source": [
    "Bike sharing is higher in year 2012 than 2011"
   ]
  },
  {
   "cell_type": "code",
   "execution_count": 171,
   "id": "eca40d16",
   "metadata": {},
   "outputs": [
    {
     "data": {
      "text/plain": [
       "<AxesSubplot:xlabel='mnth', ylabel='cnt'>"
      ]
     },
     "execution_count": 171,
     "metadata": {},
     "output_type": "execute_result"
    },
    {
     "data": {
      "image/png": "[encoded data removed]",
      "text/plain": [
       "<Figure size 432x288 with 1 Axes>"
      ]
     },
     "metadata": {},
     "output_type": "display_data"
    }
   ],
   "source": [
    "sns.barplot(x=\"mnth\", y = \"cnt\", data = data, palette = [\"orange\", \"red\", \"green\", \"blue\", \"yellow\"])"
   ]
  },
  {
   "cell_type": "markdown",
   "id": "1ab2c1e2",
   "metadata": {},
   "source": [
    "Sharing of bike is maximum in month June and September followed by August and July and minimum is in month of January"
   ]
  },
  {
   "cell_type": "code",
   "execution_count": 172,
   "id": "c75c97d0",
   "metadata": {},
   "outputs": [
    {
     "data": {
      "text/plain": [
       "<AxesSubplot:>"
      ]
     },
     "execution_count": 172,
     "metadata": {},
     "output_type": "execute_result"
    },
    {
     "data": {
      "image/png": "[encoded data removed]",
      "text/plain": [
       "<Figure size 432x288 with 1 Axes>"
      ]
     },
     "metadata": {},
     "output_type": "display_data"
    }
   ],
   "source": [
    "sns.boxplot(data=data[['cnt', 'casual', 'registered']])"
   ]
  },
  {
   "cell_type": "markdown",
   "id": "4cc7c166",
   "metadata": {},
   "source": [
    "Number of registered bike rental is  more than casual"
   ]
  },
  {
   "cell_type": "code",
   "execution_count": 173,
   "id": "440b027b",
   "metadata": {},
   "outputs": [
    {
     "data": {
      "text/plain": [
       "<AxesSubplot:>"
      ]
     },
     "execution_count": 173,
     "metadata": {},
     "output_type": "execute_result"
    },
    {
     "data": {
      "image/png": "[encoded data removed]",
      "text/plain": [
       "<Figure size 432x288 with 1 Axes>"
      ]
     },
     "metadata": {},
     "output_type": "display_data"
    }
   ],
   "source": [
    "data.pivot_table(values=['casual','registered'],columns='holiday',aggfunc='sum').plot.bar()"
   ]
  },
  {
   "cell_type": "markdown",
   "id": "b14b0517",
   "metadata": {},
   "source": [
    "Bike sharing on holiday is very less compared to weekday for both casual and registered "
   ]
  },
  {
   "cell_type": "code",
   "execution_count": 174,
   "id": "8d00c45c",
   "metadata": {},
   "outputs": [
    {
     "data": {
      "text/html": [
       "<div>\n",
       "<style scoped>\n",
       "    .dataframe tbody tr th:only-of-type {\n",
       "        vertical-align: middle;\n",
       "    }\n",
       "\n",
       "    .dataframe tbody tr th {\n",
       "        vertical-align: top;\n",
       "    }\n",
       "\n",
       "    .dataframe thead th {\n",
       "        text-align: right;\n",
       "    }\n",
       "</style>\n",
       "<table border=\"1\" class=\"dataframe\">\n",
       "  <thead>\n",
       "    <tr style=\"text-align: right;\">\n",
       "      <th></th>\n",
       "      <th>instant</th>\n",
       "      <th>temp</th>\n",
       "      <th>atemp</th>\n",
       "      <th>hum</th>\n",
       "      <th>windspeed</th>\n",
       "      <th>casual</th>\n",
       "      <th>registered</th>\n",
       "      <th>cnt</th>\n",
       "    </tr>\n",
       "    <tr>\n",
       "      <th>holiday</th>\n",
       "      <th></th>\n",
       "      <th></th>\n",
       "      <th></th>\n",
       "      <th></th>\n",
       "      <th></th>\n",
       "      <th></th>\n",
       "      <th></th>\n",
       "      <th></th>\n",
       "    </tr>\n",
       "  </thead>\n",
       "  <tbody>\n",
       "    <tr>\n",
       "      <th>0</th>\n",
       "      <td>146463923</td>\n",
       "      <td>8403.94</td>\n",
       "      <td>8046.0703</td>\n",
       "      <td>10592.93</td>\n",
       "      <td>3207.2403</td>\n",
       "      <td>597658</td>\n",
       "      <td>2616586</td>\n",
       "      <td>3214244</td>\n",
       "    </tr>\n",
       "    <tr>\n",
       "      <th>1</th>\n",
       "      <td>4559587</td>\n",
       "      <td>233.20</td>\n",
       "      <td>222.4252</td>\n",
       "      <td>307.68</td>\n",
       "      <td>96.4660</td>\n",
       "      <td>22359</td>\n",
       "      <td>56076</td>\n",
       "      <td>78435</td>\n",
       "    </tr>\n",
       "  </tbody>\n",
       "</table>\n",
       "</div>"
      ],
      "text/plain": [
       "           instant     temp      atemp       hum  windspeed  casual  \\\n",
       "holiday                                                               \n",
       "0        146463923  8403.94  8046.0703  10592.93  3207.2403  597658   \n",
       "1          4559587   233.20   222.4252    307.68    96.4660   22359   \n",
       "\n",
       "         registered      cnt  \n",
       "holiday                       \n",
       "0           2616586  3214244  \n",
       "1             56076    78435  "
      ]
     },
     "execution_count": 174,
     "metadata": {},
     "output_type": "execute_result"
    }
   ],
   "source": [
    "data.groupby(\"holiday\").sum()"
   ]
  },
  {
   "cell_type": "code",
   "execution_count": 175,
   "id": "cd1ec9e8",
   "metadata": {},
   "outputs": [
    {
     "data": {
      "text/plain": [
       "holiday\n",
       "0    2616586\n",
       "1      56076\n",
       "Name: registered, dtype: int64"
      ]
     },
     "execution_count": 175,
     "metadata": {},
     "output_type": "execute_result"
    }
   ],
   "source": [
    "reg_holi = data.groupby(\"holiday\")[\"registered\"].sum()\n",
    "reg_holi"
   ]
  },
  {
   "cell_type": "markdown",
   "id": "93766e1d",
   "metadata": {},
   "source": [
    "Total number of registered shared bike in holiday and weekday"
   ]
  },
  {
   "cell_type": "code",
   "execution_count": 176,
   "id": "9a2bddd1",
   "metadata": {},
   "outputs": [
    {
     "data": {
      "text/plain": [
       "<AxesSubplot:xlabel='hr', ylabel='registered'>"
      ]
     },
     "execution_count": 176,
     "metadata": {},
     "output_type": "execute_result"
    },
    {
     "data": {
      "image/png": "[encoded data removed]",
      "text/plain": [
       "<Figure size 432x288 with 1 Axes>"
      ]
     },
     "metadata": {},
     "output_type": "display_data"
    }
   ],
   "source": [
    "sns.barplot(x=\"hr\", y = \"registered\", data = data)"
   ]
  },
  {
   "cell_type": "markdown",
   "id": "b90f6c54",
   "metadata": {},
   "source": [
    "In hour 17 and 18 maximum number of bikes are shared"
   ]
  },
  {
   "cell_type": "code",
   "execution_count": 177,
   "id": "a42790f5",
   "metadata": {},
   "outputs": [
    {
     "data": {
      "image/png": "[encoded data removed]",
      "text/plain": [
       "<Figure size 864x648 with 2 Axes>"
      ]
     },
     "metadata": {},
     "output_type": "display_data"
    }
   ],
   "source": [
    "import seaborn as sns\n",
    "f = plt.figure(figsize=(12, 9))\n",
    "sns.heatmap(data.corr(), annot=True, fmt=\".2f\")\n",
    "plt.show()"
   ]
  },
  {
   "cell_type": "code",
   "execution_count": 178,
   "id": "dbfc7f35",
   "metadata": {},
   "outputs": [],
   "source": [
    "list_columns=['temp','windspeed','cnt']\n",
    "hrs=data[list_columns]"
   ]
  },
  {
   "cell_type": "code",
   "execution_count": 179,
   "id": "3bce59ef",
   "metadata": {},
   "outputs": [
    {
     "data": {
      "image/png": "[encoded data removed]",
      "text/plain": [
       "<Figure size 864x648 with 2 Axes>"
      ]
     },
     "metadata": {},
     "output_type": "display_data"
    }
   ],
   "source": [
    "import seaborn as sns\n",
    "f = plt.figure(figsize=(12, 9))\n",
    "sns.heatmap(hrs.corr(), annot=True, fmt=\".2f\")\n",
    "plt.show()"
   ]
  },
  {
   "cell_type": "code",
   "execution_count": 180,
   "id": "eb6735a4",
   "metadata": {},
   "outputs": [],
   "source": [
    "list_columns=['hum','cnt']\n",
    "hrs=data[list_columns]"
   ]
  },
  {
   "cell_type": "code",
   "execution_count": 181,
   "id": "030de6d6",
   "metadata": {},
   "outputs": [
    {
     "data": {
      "image/png": "[encoded data removed]",
      "text/plain": [
       "<Figure size 864x648 with 2 Axes>"
      ]
     },
     "metadata": {},
     "output_type": "display_data"
    }
   ],
   "source": [
    "import seaborn as sns\n",
    "f=plt.figure(figsize=(12,9))\n",
    "sns.heatmap(hrs.corr(),annot=True,fmt='.2f')\n",
    "plt.show()"
   ]
  },
  {
   "cell_type": "code",
   "execution_count": 182,
   "id": "832f005c",
   "metadata": {},
   "outputs": [],
   "source": [
    "grouped=data.groupby(['yr','season'])"
   ]
  },
  {
   "cell_type": "code",
   "execution_count": 183,
   "id": "8219d1da",
   "metadata": {},
   "outputs": [
    {
     "data": {
      "text/html": [
       "<div>\n",
       "<style scoped>\n",
       "    .dataframe tbody tr th:only-of-type {\n",
       "        vertical-align: middle;\n",
       "    }\n",
       "\n",
       "    .dataframe tbody tr th {\n",
       "        vertical-align: top;\n",
       "    }\n",
       "\n",
       "    .dataframe thead tr th {\n",
       "        text-align: left;\n",
       "    }\n",
       "\n",
       "    .dataframe thead tr:last-of-type th {\n",
       "        text-align: right;\n",
       "    }\n",
       "</style>\n",
       "<table border=\"1\" class=\"dataframe\">\n",
       "  <thead>\n",
       "    <tr>\n",
       "      <th></th>\n",
       "      <th></th>\n",
       "      <th colspan=\"3\" halign=\"left\">cnt</th>\n",
       "    </tr>\n",
       "    <tr>\n",
       "      <th></th>\n",
       "      <th></th>\n",
       "      <th>sum</th>\n",
       "      <th>mean</th>\n",
       "      <th>std</th>\n",
       "    </tr>\n",
       "    <tr>\n",
       "      <th>yr</th>\n",
       "      <th>season</th>\n",
       "      <th></th>\n",
       "      <th></th>\n",
       "      <th></th>\n",
       "    </tr>\n",
       "  </thead>\n",
       "  <tbody>\n",
       "    <tr>\n",
       "      <th rowspan=\"4\" valign=\"top\">0</th>\n",
       "      <th>1</th>\n",
       "      <td>150000</td>\n",
       "      <td>72.533849</td>\n",
       "      <td>67.447952</td>\n",
       "    </tr>\n",
       "    <tr>\n",
       "      <th>2</th>\n",
       "      <td>347316</td>\n",
       "      <td>157.655924</td>\n",
       "      <td>138.421632</td>\n",
       "    </tr>\n",
       "    <tr>\n",
       "      <th>3</th>\n",
       "      <td>419650</td>\n",
       "      <td>187.343750</td>\n",
       "      <td>149.352219</td>\n",
       "    </tr>\n",
       "    <tr>\n",
       "      <th>4</th>\n",
       "      <td>326137</td>\n",
       "      <td>152.828960</td>\n",
       "      <td>133.225077</td>\n",
       "    </tr>\n",
       "    <tr>\n",
       "      <th rowspan=\"4\" valign=\"top\">1</th>\n",
       "      <th>1</th>\n",
       "      <td>321348</td>\n",
       "      <td>147.814167</td>\n",
       "      <td>143.702976</td>\n",
       "    </tr>\n",
       "    <tr>\n",
       "      <th>2</th>\n",
       "      <td>571273</td>\n",
       "      <td>258.963282</td>\n",
       "      <td>216.017955</td>\n",
       "    </tr>\n",
       "    <tr>\n",
       "      <th>3</th>\n",
       "      <td>641479</td>\n",
       "      <td>284.343528</td>\n",
       "      <td>226.013549</td>\n",
       "    </tr>\n",
       "    <tr>\n",
       "      <th>4</th>\n",
       "      <td>515476</td>\n",
       "      <td>245.698761</td>\n",
       "      <td>212.462838</td>\n",
       "    </tr>\n",
       "  </tbody>\n",
       "</table>\n",
       "</div>"
      ],
      "text/plain": [
       "              cnt                        \n",
       "              sum        mean         std\n",
       "yr season                                \n",
       "0  1       150000   72.533849   67.447952\n",
       "   2       347316  157.655924  138.421632\n",
       "   3       419650  187.343750  149.352219\n",
       "   4       326137  152.828960  133.225077\n",
       "1  1       321348  147.814167  143.702976\n",
       "   2       571273  258.963282  216.017955\n",
       "   3       641479  284.343528  226.013549\n",
       "   4       515476  245.698761  212.462838"
      ]
     },
     "execution_count": 183,
     "metadata": {},
     "output_type": "execute_result"
    }
   ],
   "source": [
    "grouped[['cnt','season']].agg([np.sum,np.mean,np.std])"
   ]
  },
  {
   "cell_type": "code",
   "execution_count": 184,
   "id": "1ed0623d",
   "metadata": {},
   "outputs": [
    {
     "data": {
      "text/html": [
       "<div>\n",
       "<style scoped>\n",
       "    .dataframe tbody tr th:only-of-type {\n",
       "        vertical-align: middle;\n",
       "    }\n",
       "\n",
       "    .dataframe tbody tr th {\n",
       "        vertical-align: top;\n",
       "    }\n",
       "\n",
       "    .dataframe thead th {\n",
       "        text-align: right;\n",
       "    }\n",
       "</style>\n",
       "<table border=\"1\" class=\"dataframe\">\n",
       "  <thead>\n",
       "    <tr style=\"text-align: right;\">\n",
       "      <th></th>\n",
       "      <th>casual</th>\n",
       "      <th>registered</th>\n",
       "      <th>cnt</th>\n",
       "    </tr>\n",
       "  </thead>\n",
       "  <tbody>\n",
       "    <tr>\n",
       "      <th>casual</th>\n",
       "      <td>1.000000</td>\n",
       "      <td>0.506618</td>\n",
       "      <td>0.694564</td>\n",
       "    </tr>\n",
       "    <tr>\n",
       "      <th>registered</th>\n",
       "      <td>0.506618</td>\n",
       "      <td>1.000000</td>\n",
       "      <td>0.972151</td>\n",
       "    </tr>\n",
       "    <tr>\n",
       "      <th>cnt</th>\n",
       "      <td>0.694564</td>\n",
       "      <td>0.972151</td>\n",
       "      <td>1.000000</td>\n",
       "    </tr>\n",
       "  </tbody>\n",
       "</table>\n",
       "</div>"
      ],
      "text/plain": [
       "              casual  registered       cnt\n",
       "casual      1.000000    0.506618  0.694564\n",
       "registered  0.506618    1.000000  0.972151\n",
       "cnt         0.694564    0.972151  1.000000"
      ]
     },
     "execution_count": 184,
     "metadata": {},
     "output_type": "execute_result"
    }
   ],
   "source": [
    "data[[\"casual\", \"registered\", \"cnt\"]].corr()"
   ]
  },
  {
   "cell_type": "code",
   "execution_count": 185,
   "id": "b202fd0c",
   "metadata": {},
   "outputs": [
    {
     "data": {
      "image/png": "[encoded data removed]",
      "text/plain": [
       "<Figure size 432x288 with 2 Axes>"
      ]
     },
     "metadata": {},
     "output_type": "display_data"
    }
   ],
   "source": [
    "sns.set(rc={\"figure.figsize\":(6, 4)})\n",
    "c = sns.heatmap(data = hour[[\"casual\", \"registered\", \"cnt\"]].corr(), annot = True)\n",
    "plt.show()"
   ]
  },
  {
   "cell_type": "code",
   "execution_count": 186,
   "id": "4193d64a",
   "metadata": {},
   "outputs": [],
   "source": [
    "from scipy.stats import ttest_1samp\n",
    "import scipy.stats as stats\n",
    "from statsmodels.stats.weightstats import ttest_ind"
   ]
  },
  {
   "cell_type": "code",
   "execution_count": 187,
   "id": "136effb2",
   "metadata": {},
   "outputs": [
    {
     "name": "stdout",
     "output_type": "stream",
     "text": [
      "correlation and p value is :  (-0.02312526248533158, 0.002297736859568214)\n"
     ]
    }
   ],
   "source": [
    "stats.pearsonr(data[\"temp\"] , data[\"windspeed\"])\n",
    "print(\"correlation and p value is : \", stats.pearsonr(data[\"temp\"] , data[\"windspeed\"]))"
   ]
  },
  {
   "cell_type": "markdown",
   "id": "8cd2ac50",
   "metadata": {},
   "source": [
    "Correlation with temp and windspeed is significant"
   ]
  },
  {
   "cell_type": "code",
   "execution_count": 188,
   "id": "a78b043b",
   "metadata": {},
   "outputs": [
    {
     "name": "stdout",
     "output_type": "stream",
     "text": [
      "correlation and p value is :  (0.17805573098267552, 9.182191254212669e-124)\n"
     ]
    }
   ],
   "source": [
    "stats.pearsonr(data[\"season\"] , data[\"cnt\"])\n",
    "print(\"correlation and p value is : \", stats.pearsonr(data[\"season\"] , data[\"cnt\"]))"
   ]
  },
  {
   "cell_type": "markdown",
   "id": "db3e8bc3",
   "metadata": {},
   "source": [
    "Correlation with season and cnt is significant"
   ]
  },
  {
   "cell_type": "code",
   "execution_count": 189,
   "id": "7888fedd",
   "metadata": {},
   "outputs": [
    {
     "name": "stdout",
     "output_type": "stream",
     "text": [
      "correlation and p value is :  (0.9876721390396481, 0.0)\n"
     ]
    }
   ],
   "source": [
    "stats.pearsonr(data[\"temp\"] , data[\"atemp\"])\n",
    "print(\"correlation and p value is : \", stats.pearsonr(data[\"temp\"] , data[\"atemp\"]))"
   ]
  },
  {
   "cell_type": "markdown",
   "id": "592da56d",
   "metadata": {},
   "source": [
    "There is a significant relationship between temp and atemp"
   ]
  },
  {
   "cell_type": "code",
   "execution_count": 190,
   "id": "07d5ca17",
   "metadata": {},
   "outputs": [
    {
     "name": "stdout",
     "output_type": "stream",
     "text": [
      "correlation and p value is :  (0.5066177004294635, 0.0)\n"
     ]
    }
   ],
   "source": [
    "stats.pearsonr(data['casual'] , data['registered'])\n",
    "print(\"correlation and p value is : \", stats.pearsonr(data['casual'] , data['registered']))"
   ]
  },
  {
   "cell_type": "markdown",
   "id": "235ea504",
   "metadata": {},
   "source": [
    "There is a significant relationship between casual and registered"
   ]
  },
  {
   "cell_type": "code",
   "execution_count": 191,
   "id": "4ec9fe17",
   "metadata": {},
   "outputs": [
    {
     "name": "stdout",
     "output_type": "stream",
     "text": [
      "<class 'pandas.core.frame.DataFrame'>\n",
      "RangeIndex: 17379 entries, 0 to 17378\n",
      "Data columns (total 17 columns):\n",
      " #   Column      Non-Null Count  Dtype         \n",
      "---  ------      --------------  -----         \n",
      " 0   instant     17379 non-null  int64         \n",
      " 1   dteday      17379 non-null  datetime64[ns]\n",
      " 2   season      17379 non-null  category      \n",
      " 3   yr          17379 non-null  category      \n",
      " 4   mnth        17379 non-null  category      \n",
      " 5   hr          17379 non-null  category      \n",
      " 6   holiday     17379 non-null  category      \n",
      " 7   weekday     17379 non-null  category      \n",
      " 8   workingday  17379 non-null  category      \n",
      " 9   weathersit  17379 non-null  category      \n",
      " 10  temp        17379 non-null  float64       \n",
      " 11  atemp       17379 non-null  float64       \n",
      " 12  hum         17379 non-null  float64       \n",
      " 13  windspeed   17379 non-null  float64       \n",
      " 14  casual      17379 non-null  int64         \n",
      " 15  registered  17379 non-null  int64         \n",
      " 16  cnt         17379 non-null  int64         \n",
      "dtypes: category(8), datetime64[ns](1), float64(4), int64(4)\n",
      "memory usage: 1.3 MB\n"
     ]
    }
   ],
   "source": [
    "data.info()"
   ]
  },
  {
   "cell_type": "markdown",
   "id": "849d1d5a",
   "metadata": {},
   "source": [
    "## Feature Standardization"
   ]
  },
  {
   "cell_type": "code",
   "execution_count": 192,
   "id": "6dbfc25b",
   "metadata": {},
   "outputs": [],
   "source": [
    "from sklearn.preprocessing import StandardScaler"
   ]
  },
  {
   "cell_type": "code",
   "execution_count": 193,
   "id": "e948cb7a",
   "metadata": {},
   "outputs": [],
   "source": [
    "scaler = StandardScaler()"
   ]
  },
  {
   "cell_type": "code",
   "execution_count": 194,
   "id": "ed9e5b88",
   "metadata": {},
   "outputs": [],
   "source": [
    "data[['instant','temp','atemp','hum','windspeed','casual','registered']]=StandardScaler().fit_transform(data[['instant','temp','atemp','hum','windspeed','casual','registered']])"
   ]
  },
  {
   "cell_type": "markdown",
   "id": "44127faf",
   "metadata": {},
   "source": [
    "## Splitting into train and test dataset"
   ]
  },
  {
   "cell_type": "code",
   "execution_count": 195,
   "id": "1ef02198",
   "metadata": {},
   "outputs": [],
   "source": [
    "from sklearn.linear_model import LinearRegression\n",
    "from sklearn.model_selection import train_test_split"
   ]
  },
  {
   "cell_type": "code",
   "execution_count": 196,
   "id": "4c5d60d5",
   "metadata": {},
   "outputs": [],
   "source": [
    "data=data.drop(['instant','dteday'],axis=1)"
   ]
  },
  {
   "cell_type": "code",
   "execution_count": 197,
   "id": "454148f4",
   "metadata": {},
   "outputs": [],
   "source": [
    "y=data.pop('cnt')"
   ]
  },
  {
   "cell_type": "code",
   "execution_count": 198,
   "id": "0cee4e63",
   "metadata": {},
   "outputs": [],
   "source": [
    "x=data"
   ]
  },
  {
   "cell_type": "code",
   "execution_count": 199,
   "id": "ea4f5f03",
   "metadata": {},
   "outputs": [
    {
     "name": "stdout",
     "output_type": "stream",
     "text": [
      "<class 'pandas.core.frame.DataFrame'>\n",
      "RangeIndex: 17379 entries, 0 to 17378\n",
      "Data columns (total 14 columns):\n",
      " #   Column      Non-Null Count  Dtype   \n",
      "---  ------      --------------  -----   \n",
      " 0   season      17379 non-null  category\n",
      " 1   yr          17379 non-null  category\n",
      " 2   mnth        17379 non-null  category\n",
      " 3   hr          17379 non-null  category\n",
      " 4   holiday     17379 non-null  category\n",
      " 5   weekday     17379 non-null  category\n",
      " 6   workingday  17379 non-null  category\n",
      " 7   weathersit  17379 non-null  category\n",
      " 8   temp        17379 non-null  float64 \n",
      " 9   atemp       17379 non-null  float64 \n",
      " 10  hum         17379 non-null  float64 \n",
      " 11  windspeed   17379 non-null  float64 \n",
      " 12  casual      17379 non-null  float64 \n",
      " 13  registered  17379 non-null  float64 \n",
      "dtypes: category(8), float64(6)\n",
      "memory usage: 952.8 KB\n"
     ]
    }
   ],
   "source": [
    "x.info()"
   ]
  },
  {
   "cell_type": "code",
   "execution_count": 203,
   "id": "6215552c",
   "metadata": {},
   "outputs": [],
   "source": [
    "x_train,x_test,y_train,y_test=train_test_split(x,y,test_size=0.2,random_state=1234456)"
   ]
  },
  {
   "cell_type": "code",
   "execution_count": 204,
   "id": "8f4d8de8",
   "metadata": {},
   "outputs": [
    {
     "data": {
      "text/plain": [
       "((13903, 14), (3476, 14))"
      ]
     },
     "execution_count": 204,
     "metadata": {},
     "output_type": "execute_result"
    }
   ],
   "source": [
    "x_train.shape,x_test.shape"
   ]
  },
  {
   "cell_type": "markdown",
   "id": "fc57c648",
   "metadata": {},
   "source": [
    "## Modelling Part"
   ]
  },
  {
   "cell_type": "code",
   "execution_count": 227,
   "id": "0728e1ef",
   "metadata": {},
   "outputs": [],
   "source": [
    "model=LinearRegression() # Using Linear Regression"
   ]
  },
  {
   "cell_type": "code",
   "execution_count": 206,
   "id": "958872e2",
   "metadata": {},
   "outputs": [
    {
     "data": {
      "text/html": [
       "<style>#sk-container-id-2 {color: black;background-color: white;}#sk-container-id-2 pre{padding: 0;}#sk-container-id-2 div.sk-toggleable {background-color: white;}#sk-container-id-2 label.sk-toggleable__label {cursor: pointer;display: block;width: 100%;margin-bottom: 0;padding: 0.3em;box-sizing: border-box;text-align: center;}#sk-container-id-2 label.sk-toggleable__label-arrow:before {content: \"▸\";float: left;margin-right: 0.25em;color: #696969;}#sk-container-id-2 label.sk-toggleable__label-arrow:hover:before {color: black;}#sk-container-id-2 div.sk-estimator:hover label.sk-toggleable__label-arrow:before {color: black;}#sk-container-id-2 div.sk-toggleable__content {max-height: 0;max-width: 0;overflow: hidden;text-align: left;background-color: #f0f8ff;}#sk-container-id-2 div.sk-toggleable__content pre {margin: 0.2em;color: black;border-radius: 0.25em;background-color: #f0f8ff;}#sk-container-id-2 input.sk-toggleable__control:checked~div.sk-toggleable__content {max-height: 200px;max-width: 100%;overflow: auto;}#sk-container-id-2 input.sk-toggleable__control:checked~label.sk-toggleable__label-arrow:before {content: \"▾\";}#sk-container-id-2 div.sk-estimator input.sk-toggleable__control:checked~label.sk-toggleable__label {background-color: #d4ebff;}#sk-container-id-2 div.sk-label input.sk-toggleable__control:checked~label.sk-toggleable__label {background-color: #d4ebff;}#sk-container-id-2 input.sk-hidden--visually {border: 0;clip: rect(1px 1px 1px 1px);clip: rect(1px, 1px, 1px, 1px);height: 1px;margin: -1px;overflow: hidden;padding: 0;position: absolute;width: 1px;}#sk-container-id-2 div.sk-estimator {font-family: monospace;background-color: #f0f8ff;border: 1px dotted black;border-radius: 0.25em;box-sizing: border-box;margin-bottom: 0.5em;}#sk-container-id-2 div.sk-estimator:hover {background-color: #d4ebff;}#sk-container-id-2 div.sk-parallel-item::after {content: \"\";width: 100%;border-bottom: 1px solid gray;flex-grow: 1;}#sk-container-id-2 div.sk-label:hover label.sk-toggleable__label {background-color: #d4ebff;}#sk-container-id-2 div.sk-serial::before {content: \"\";position: absolute;border-left: 1px solid gray;box-sizing: border-box;top: 0;bottom: 0;left: 50%;z-index: 0;}#sk-container-id-2 div.sk-serial {display: flex;flex-direction: column;align-items: center;background-color: white;padding-right: 0.2em;padding-left: 0.2em;position: relative;}#sk-container-id-2 div.sk-item {position: relative;z-index: 1;}#sk-container-id-2 div.sk-parallel {display: flex;align-items: stretch;justify-content: center;background-color: white;position: relative;}#sk-container-id-2 div.sk-item::before, #sk-container-id-2 div.sk-parallel-item::before {content: \"\";position: absolute;border-left: 1px solid gray;box-sizing: border-box;top: 0;bottom: 0;left: 50%;z-index: -1;}#sk-container-id-2 div.sk-parallel-item {display: flex;flex-direction: column;z-index: 1;position: relative;background-color: white;}#sk-container-id-2 div.sk-parallel-item:first-child::after {align-self: flex-end;width: 50%;}#sk-container-id-2 div.sk-parallel-item:last-child::after {align-self: flex-start;width: 50%;}#sk-container-id-2 div.sk-parallel-item:only-child::after {width: 0;}#sk-container-id-2 div.sk-dashed-wrapped {border: 1px dashed gray;margin: 0 0.4em 0.5em 0.4em;box-sizing: border-box;padding-bottom: 0.4em;background-color: white;}#sk-container-id-2 div.sk-label label {font-family: monospace;font-weight: bold;display: inline-block;line-height: 1.2em;}#sk-container-id-2 div.sk-label-container {text-align: center;}#sk-container-id-2 div.sk-container {/* jupyter's `normalize.less` sets `[hidden] { display: none; }` but bootstrap.min.css set `[hidden] { display: none !important; }` so we also need the `!important` here to be able to override the default hidden behavior on the sphinx rendered scikit-learn.org. See: https://github.com/scikit-learn/scikit-learn/issues/21755 */display: inline-block !important;position: relative;}#sk-container-id-2 div.sk-text-repr-fallback {display: none;}</style><div id=\"sk-container-id-2\" class=\"sk-top-container\"><div class=\"sk-text-repr-fallback\"><pre>LinearRegression()</pre><b>In a Jupyter environment, please rerun this cell to show the HTML representation or trust the notebook. <br />On GitHub, the HTML representation is unable to render, please try loading this page with nbviewer.org.</b></div><div class=\"sk-container\" hidden><div class=\"sk-item\"><div class=\"sk-estimator sk-toggleable\"><input class=\"sk-toggleable__control sk-hidden--visually\" id=\"sk-estimator-id-2\" type=\"checkbox\" checked><label for=\"sk-estimator-id-2\" class=\"sk-toggleable__label sk-toggleable__label-arrow\">LinearRegression</label><div class=\"sk-toggleable__content\"><pre>LinearRegression()</pre></div></div></div></div></div>"
      ],
      "text/plain": [
       "LinearRegression()"
      ]
     },
     "execution_count": 206,
     "metadata": {},
     "output_type": "execute_result"
    }
   ],
   "source": [
    "model.fit(x_train,y_train)"
   ]
  },
  {
   "cell_type": "code",
   "execution_count": 207,
   "id": "576e6838",
   "metadata": {},
   "outputs": [
    {
     "data": {
      "text/plain": [
       "1.0"
      ]
     },
     "execution_count": 207,
     "metadata": {},
     "output_type": "execute_result"
    }
   ],
   "source": [
    "model.score(x_train,y_train)"
   ]
  },
  {
   "cell_type": "code",
   "execution_count": 208,
   "id": "c0a445a4",
   "metadata": {},
   "outputs": [
    {
     "data": {
      "text/plain": [
       "1.0"
      ]
     },
     "execution_count": 208,
     "metadata": {},
     "output_type": "execute_result"
    }
   ],
   "source": [
    "model.score(x_test,y_test)"
   ]
  },
  {
   "cell_type": "code",
   "execution_count": 211,
   "id": "f3a52fc1",
   "metadata": {},
   "outputs": [],
   "source": [
    "from sklearn.metrics import r2_score"
   ]
  },
  {
   "cell_type": "code",
   "execution_count": 212,
   "id": "23a14532",
   "metadata": {},
   "outputs": [
    {
     "data": {
      "text/plain": [
       "array([ 20.,  50., 191., ..., 370., 226., 193.])"
      ]
     },
     "execution_count": 212,
     "metadata": {},
     "output_type": "execute_result"
    }
   ],
   "source": [
    "y_pred=model.predict(x_test)\n",
    "y_pred"
   ]
  },
  {
   "cell_type": "code",
   "execution_count": 213,
   "id": "de477e02",
   "metadata": {},
   "outputs": [
    {
     "data": {
      "text/plain": [
       "1.0"
      ]
     },
     "execution_count": 213,
     "metadata": {},
     "output_type": "execute_result"
    }
   ],
   "source": [
    "r2_score(y_pred,y_test)"
   ]
  },
  {
   "cell_type": "code",
   "execution_count": 214,
   "id": "f4e9e1cb",
   "metadata": {},
   "outputs": [],
   "source": [
    "from sklearn.metrics import mean_squared_error"
   ]
  },
  {
   "cell_type": "code",
   "execution_count": 215,
   "id": "f337cc8e",
   "metadata": {},
   "outputs": [
    {
     "data": {
      "text/plain": [
       "4.91434671931517e-26"
      ]
     },
     "execution_count": 215,
     "metadata": {},
     "output_type": "execute_result"
    }
   ],
   "source": [
    "mean_squared_error(y_pred,y_test)"
   ]
  },
  {
   "cell_type": "code",
   "execution_count": 216,
   "id": "aec04327",
   "metadata": {},
   "outputs": [
    {
     "data": {
      "text/plain": [
       "2.2168325871195527e-13"
      ]
     },
     "execution_count": 216,
     "metadata": {},
     "output_type": "execute_result"
    }
   ],
   "source": [
    "np.sqrt(mean_squared_error(y_pred,y_test))"
   ]
  },
  {
   "cell_type": "code",
   "execution_count": 209,
   "id": "4acb748f",
   "metadata": {},
   "outputs": [],
   "source": [
    "from sklearn import linear_model"
   ]
  },
  {
   "cell_type": "code",
   "execution_count": 210,
   "id": "002a4b32",
   "metadata": {},
   "outputs": [],
   "source": [
    "Lasso_model=linear_model.Lasso(alpha=0.5) # Using Lasso model"
   ]
  },
  {
   "cell_type": "code",
   "execution_count": 217,
   "id": "37ef1617",
   "metadata": {},
   "outputs": [
    {
     "data": {
      "text/html": [
       "<style>#sk-container-id-3 {color: black;background-color: white;}#sk-container-id-3 pre{padding: 0;}#sk-container-id-3 div.sk-toggleable {background-color: white;}#sk-container-id-3 label.sk-toggleable__label {cursor: pointer;display: block;width: 100%;margin-bottom: 0;padding: 0.3em;box-sizing: border-box;text-align: center;}#sk-container-id-3 label.sk-toggleable__label-arrow:before {content: \"▸\";float: left;margin-right: 0.25em;color: #696969;}#sk-container-id-3 label.sk-toggleable__label-arrow:hover:before {color: black;}#sk-container-id-3 div.sk-estimator:hover label.sk-toggleable__label-arrow:before {color: black;}#sk-container-id-3 div.sk-toggleable__content {max-height: 0;max-width: 0;overflow: hidden;text-align: left;background-color: #f0f8ff;}#sk-container-id-3 div.sk-toggleable__content pre {margin: 0.2em;color: black;border-radius: 0.25em;background-color: #f0f8ff;}#sk-container-id-3 input.sk-toggleable__control:checked~div.sk-toggleable__content {max-height: 200px;max-width: 100%;overflow: auto;}#sk-container-id-3 input.sk-toggleable__control:checked~label.sk-toggleable__label-arrow:before {content: \"▾\";}#sk-container-id-3 div.sk-estimator input.sk-toggleable__control:checked~label.sk-toggleable__label {background-color: #d4ebff;}#sk-container-id-3 div.sk-label input.sk-toggleable__control:checked~label.sk-toggleable__label {background-color: #d4ebff;}#sk-container-id-3 input.sk-hidden--visually {border: 0;clip: rect(1px 1px 1px 1px);clip: rect(1px, 1px, 1px, 1px);height: 1px;margin: -1px;overflow: hidden;padding: 0;position: absolute;width: 1px;}#sk-container-id-3 div.sk-estimator {font-family: monospace;background-color: #f0f8ff;border: 1px dotted black;border-radius: 0.25em;box-sizing: border-box;margin-bottom: 0.5em;}#sk-container-id-3 div.sk-estimator:hover {background-color: #d4ebff;}#sk-container-id-3 div.sk-parallel-item::after {content: \"\";width: 100%;border-bottom: 1px solid gray;flex-grow: 1;}#sk-container-id-3 div.sk-label:hover label.sk-toggleable__label {background-color: #d4ebff;}#sk-container-id-3 div.sk-serial::before {content: \"\";position: absolute;border-left: 1px solid gray;box-sizing: border-box;top: 0;bottom: 0;left: 50%;z-index: 0;}#sk-container-id-3 div.sk-serial {display: flex;flex-direction: column;align-items: center;background-color: white;padding-right: 0.2em;padding-left: 0.2em;position: relative;}#sk-container-id-3 div.sk-item {position: relative;z-index: 1;}#sk-container-id-3 div.sk-parallel {display: flex;align-items: stretch;justify-content: center;background-color: white;position: relative;}#sk-container-id-3 div.sk-item::before, #sk-container-id-3 div.sk-parallel-item::before {content: \"\";position: absolute;border-left: 1px solid gray;box-sizing: border-box;top: 0;bottom: 0;left: 50%;z-index: -1;}#sk-container-id-3 div.sk-parallel-item {display: flex;flex-direction: column;z-index: 1;position: relative;background-color: white;}#sk-container-id-3 div.sk-parallel-item:first-child::after {align-self: flex-end;width: 50%;}#sk-container-id-3 div.sk-parallel-item:last-child::after {align-self: flex-start;width: 50%;}#sk-container-id-3 div.sk-parallel-item:only-child::after {width: 0;}#sk-container-id-3 div.sk-dashed-wrapped {border: 1px dashed gray;margin: 0 0.4em 0.5em 0.4em;box-sizing: border-box;padding-bottom: 0.4em;background-color: white;}#sk-container-id-3 div.sk-label label {font-family: monospace;font-weight: bold;display: inline-block;line-height: 1.2em;}#sk-container-id-3 div.sk-label-container {text-align: center;}#sk-container-id-3 div.sk-container {/* jupyter's `normalize.less` sets `[hidden] { display: none; }` but bootstrap.min.css set `[hidden] { display: none !important; }` so we also need the `!important` here to be able to override the default hidden behavior on the sphinx rendered scikit-learn.org. See: https://github.com/scikit-learn/scikit-learn/issues/21755 */display: inline-block !important;position: relative;}#sk-container-id-3 div.sk-text-repr-fallback {display: none;}</style><div id=\"sk-container-id-3\" class=\"sk-top-container\"><div class=\"sk-text-repr-fallback\"><pre>Lasso(alpha=0.5)</pre><b>In a Jupyter environment, please rerun this cell to show the HTML representation or trust the notebook. <br />On GitHub, the HTML representation is unable to render, please try loading this page with nbviewer.org.</b></div><div class=\"sk-container\" hidden><div class=\"sk-item\"><div class=\"sk-estimator sk-toggleable\"><input class=\"sk-toggleable__control sk-hidden--visually\" id=\"sk-estimator-id-3\" type=\"checkbox\" checked><label for=\"sk-estimator-id-3\" class=\"sk-toggleable__label sk-toggleable__label-arrow\">Lasso</label><div class=\"sk-toggleable__content\"><pre>Lasso(alpha=0.5)</pre></div></div></div></div></div>"
      ],
      "text/plain": [
       "Lasso(alpha=0.5)"
      ]
     },
     "execution_count": 217,
     "metadata": {},
     "output_type": "execute_result"
    }
   ],
   "source": [
    "Lasso_model.fit(x_train,y_train)"
   ]
  },
  {
   "cell_type": "code",
   "execution_count": 218,
   "id": "7f2b6f3a",
   "metadata": {},
   "outputs": [
    {
     "data": {
      "text/plain": [
       "0.9999893270832767"
      ]
     },
     "execution_count": 218,
     "metadata": {},
     "output_type": "execute_result"
    }
   ],
   "source": [
    "Lasso_model.score(x_train,y_train)"
   ]
  },
  {
   "cell_type": "code",
   "execution_count": 219,
   "id": "efba6f28",
   "metadata": {},
   "outputs": [
    {
     "data": {
      "text/plain": [
       "0.9999892306943956"
      ]
     },
     "execution_count": 219,
     "metadata": {},
     "output_type": "execute_result"
    }
   ],
   "source": [
    "Lasso_model.score(x_test,y_test)"
   ]
  },
  {
   "cell_type": "code",
   "execution_count": 220,
   "id": "67df8e5f",
   "metadata": {},
   "outputs": [],
   "source": [
    "Lasso_model1=linear_model.Lasso(alpha=0.1)"
   ]
  },
  {
   "cell_type": "code",
   "execution_count": 221,
   "id": "ca8873c7",
   "metadata": {},
   "outputs": [
    {
     "data": {
      "text/html": [
       "<style>#sk-container-id-4 {color: black;background-color: white;}#sk-container-id-4 pre{padding: 0;}#sk-container-id-4 div.sk-toggleable {background-color: white;}#sk-container-id-4 label.sk-toggleable__label {cursor: pointer;display: block;width: 100%;margin-bottom: 0;padding: 0.3em;box-sizing: border-box;text-align: center;}#sk-container-id-4 label.sk-toggleable__label-arrow:before {content: \"▸\";float: left;margin-right: 0.25em;color: #696969;}#sk-container-id-4 label.sk-toggleable__label-arrow:hover:before {color: black;}#sk-container-id-4 div.sk-estimator:hover label.sk-toggleable__label-arrow:before {color: black;}#sk-container-id-4 div.sk-toggleable__content {max-height: 0;max-width: 0;overflow: hidden;text-align: left;background-color: #f0f8ff;}#sk-container-id-4 div.sk-toggleable__content pre {margin: 0.2em;color: black;border-radius: 0.25em;background-color: #f0f8ff;}#sk-container-id-4 input.sk-toggleable__control:checked~div.sk-toggleable__content {max-height: 200px;max-width: 100%;overflow: auto;}#sk-container-id-4 input.sk-toggleable__control:checked~label.sk-toggleable__label-arrow:before {content: \"▾\";}#sk-container-id-4 div.sk-estimator input.sk-toggleable__control:checked~label.sk-toggleable__label {background-color: #d4ebff;}#sk-container-id-4 div.sk-label input.sk-toggleable__control:checked~label.sk-toggleable__label {background-color: #d4ebff;}#sk-container-id-4 input.sk-hidden--visually {border: 0;clip: rect(1px 1px 1px 1px);clip: rect(1px, 1px, 1px, 1px);height: 1px;margin: -1px;overflow: hidden;padding: 0;position: absolute;width: 1px;}#sk-container-id-4 div.sk-estimator {font-family: monospace;background-color: #f0f8ff;border: 1px dotted black;border-radius: 0.25em;box-sizing: border-box;margin-bottom: 0.5em;}#sk-container-id-4 div.sk-estimator:hover {background-color: #d4ebff;}#sk-container-id-4 div.sk-parallel-item::after {content: \"\";width: 100%;border-bottom: 1px solid gray;flex-grow: 1;}#sk-container-id-4 div.sk-label:hover label.sk-toggleable__label {background-color: #d4ebff;}#sk-container-id-4 div.sk-serial::before {content: \"\";position: absolute;border-left: 1px solid gray;box-sizing: border-box;top: 0;bottom: 0;left: 50%;z-index: 0;}#sk-container-id-4 div.sk-serial {display: flex;flex-direction: column;align-items: center;background-color: white;padding-right: 0.2em;padding-left: 0.2em;position: relative;}#sk-container-id-4 div.sk-item {position: relative;z-index: 1;}#sk-container-id-4 div.sk-parallel {display: flex;align-items: stretch;justify-content: center;background-color: white;position: relative;}#sk-container-id-4 div.sk-item::before, #sk-container-id-4 div.sk-parallel-item::before {content: \"\";position: absolute;border-left: 1px solid gray;box-sizing: border-box;top: 0;bottom: 0;left: 50%;z-index: -1;}#sk-container-id-4 div.sk-parallel-item {display: flex;flex-direction: column;z-index: 1;position: relative;background-color: white;}#sk-container-id-4 div.sk-parallel-item:first-child::after {align-self: flex-end;width: 50%;}#sk-container-id-4 div.sk-parallel-item:last-child::after {align-self: flex-start;width: 50%;}#sk-container-id-4 div.sk-parallel-item:only-child::after {width: 0;}#sk-container-id-4 div.sk-dashed-wrapped {border: 1px dashed gray;margin: 0 0.4em 0.5em 0.4em;box-sizing: border-box;padding-bottom: 0.4em;background-color: white;}#sk-container-id-4 div.sk-label label {font-family: monospace;font-weight: bold;display: inline-block;line-height: 1.2em;}#sk-container-id-4 div.sk-label-container {text-align: center;}#sk-container-id-4 div.sk-container {/* jupyter's `normalize.less` sets `[hidden] { display: none; }` but bootstrap.min.css set `[hidden] { display: none !important; }` so we also need the `!important` here to be able to override the default hidden behavior on the sphinx rendered scikit-learn.org. See: https://github.com/scikit-learn/scikit-learn/issues/21755 */display: inline-block !important;position: relative;}#sk-container-id-4 div.sk-text-repr-fallback {display: none;}</style><div id=\"sk-container-id-4\" class=\"sk-top-container\"><div class=\"sk-text-repr-fallback\"><pre>Lasso(alpha=0.1)</pre><b>In a Jupyter environment, please rerun this cell to show the HTML representation or trust the notebook. <br />On GitHub, the HTML representation is unable to render, please try loading this page with nbviewer.org.</b></div><div class=\"sk-container\" hidden><div class=\"sk-item\"><div class=\"sk-estimator sk-toggleable\"><input class=\"sk-toggleable__control sk-hidden--visually\" id=\"sk-estimator-id-4\" type=\"checkbox\" checked><label for=\"sk-estimator-id-4\" class=\"sk-toggleable__label sk-toggleable__label-arrow\">Lasso</label><div class=\"sk-toggleable__content\"><pre>Lasso(alpha=0.1)</pre></div></div></div></div></div>"
      ],
      "text/plain": [
       "Lasso(alpha=0.1)"
      ]
     },
     "execution_count": 221,
     "metadata": {},
     "output_type": "execute_result"
    }
   ],
   "source": [
    "Lasso_model1.fit(x_train,y_train)"
   ]
  },
  {
   "cell_type": "code",
   "execution_count": 223,
   "id": "66a1c4d2",
   "metadata": {},
   "outputs": [
    {
     "data": {
      "text/plain": [
       "0.9999893270832767"
      ]
     },
     "execution_count": 223,
     "metadata": {},
     "output_type": "execute_result"
    }
   ],
   "source": [
    "Lasso_model.score(x_train,y_train)"
   ]
  },
  {
   "cell_type": "code",
   "execution_count": 222,
   "id": "126c86e2",
   "metadata": {},
   "outputs": [
    {
     "data": {
      "text/plain": [
       "0.999999574703022"
      ]
     },
     "execution_count": 222,
     "metadata": {},
     "output_type": "execute_result"
    }
   ],
   "source": [
    "Lasso_model1.score(x_test,y_test)"
   ]
  },
  {
   "cell_type": "code",
   "execution_count": 224,
   "id": "070cab43",
   "metadata": {},
   "outputs": [],
   "source": [
    "from sklearn.linear_model import Ridge   # Using Ridge model"
   ]
  },
  {
   "cell_type": "code",
   "execution_count": 225,
   "id": "b7d1c9d2",
   "metadata": {},
   "outputs": [
    {
     "data": {
      "text/plain": [
       "0.999999867845465"
      ]
     },
     "execution_count": 225,
     "metadata": {},
     "output_type": "execute_result"
    }
   ],
   "source": [
    "model1 = Ridge(alpha=5)\n",
    "model1.fit(x_train,y_train)\n",
    "model1.score(x_train,y_train)"
   ]
  },
  {
   "cell_type": "code",
   "execution_count": 226,
   "id": "f484fb9d",
   "metadata": {},
   "outputs": [
    {
     "data": {
      "text/plain": [
       "0.9999998700304114"
      ]
     },
     "execution_count": 226,
     "metadata": {},
     "output_type": "execute_result"
    }
   ],
   "source": [
    "model1.score(x_test,y_test)"
   ]
  }
 ],
 "metadata": {
  "kernelspec": {
   "display_name": "Python 3 (ipykernel)",
   "language": "python",
   "name": "python3"
  },
  "language_info": {
   "codemirror_mode": {
    "name": "ipython",
    "version": 3
   },
   "file_extension": ".py",
   "mimetype": "text/x-python",
   "name": "python",
   "nbconvert_exporter": "python",
   "pygments_lexer": "ipython3",
   "version": "3.9.7"
  }
 },
 "nbformat": 4,
 "nbformat_minor": 5
}
